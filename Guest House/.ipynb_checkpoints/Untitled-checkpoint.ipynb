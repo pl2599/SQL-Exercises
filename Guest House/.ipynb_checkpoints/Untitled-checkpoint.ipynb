{
 "cells": [
  {
   "cell_type": "markdown",
   "metadata": {},
   "source": [
    "Give the booking_date and the number of nights for guest 1183."
   ]
  },
  {
   "cell_type": "markdown",
   "metadata": {},
   "source": [
    "``` mysql\n",
    "SELECT booking_date, nights\n",
    "FROM booking\n",
    "WHERE guest_id = 1183\n",
    "```"
   ]
  },
  {
   "cell_type": "markdown",
   "metadata": {},
   "source": [
    "List the arrival time and the first and last names for all guests due to arrive on 2016-11-05, order the output by time of arrival."
   ]
  },
  {
   "cell_type": "markdown",
   "metadata": {},
   "source": [
    "``` mysql\n",
    "SELECT arrival_time, first_name, last_name\n",
    "FROM booking JOIN guest ON guest.id = booking.guest_id\n",
    "WHERE booking_date = '2016-11-05'\n",
    "ORDER BY arrival_time\n",
    "```"
   ]
  },
  {
   "cell_type": "markdown",
   "metadata": {},
   "source": [
    "Give the daily rate that should be paid for bookings with ids 5152, 5165, 5154 and 5295. Include booking id, room type, number of occupants and the amount."
   ]
  },
  {
   "cell_type": "markdown",
   "metadata": {},
   "source": [
    "``` mysql\n",
    "SELECT booking.booking_id, room_type_requested, occupants, amount\n",
    "FROM booking JOIN rate ON booking.room_type_requested = rate.room_type \n",
    "    AND booking.occupants = rate.occupancy\n",
    "WHERE booking.booking_id IN (5152, 5165, 5154, 5295)\n",
    "``` "
   ]
  },
  {
   "cell_type": "markdown",
   "metadata": {},
   "source": [
    "Find who is staying in room 101 on 2016-12-03, include first name, last name and address."
   ]
  },
  {
   "cell_type": "markdown",
   "metadata": {},
   "source": [
    "``` mysql\n",
    "SELECT first_name, last_name, address\n",
    "FROM guest JOIN booking ON guest.id = booking.guest_id\n",
    "WHERE room_no = 101 AND booking_date = '2016-12-03'\n",
    "``` "
   ]
  },
  {
   "cell_type": "markdown",
   "metadata": {},
   "source": [
    "For guests 1185 and 1270 show the number of bookings made and the total number of nights. Your output should include the guest id and the total number of bookings and the total number of nights."
   ]
  },
  {
   "cell_type": "markdown",
   "metadata": {},
   "source": [
    "``` mysql\n",
    "SELECT guest_id, COUNT(*) AS bookings, SUM(nights) AS nights\n",
    "FROM guest JOIN booking ON guest.id = booking.guest_id\n",
    "WHERE guest_id IN (1185, 1270)\n",
    "GROUP BY guest_id\n",
    "``` "
   ]
  },
  {
   "cell_type": "markdown",
   "metadata": {},
   "source": [
    "Show the total amount payable by guest Ruth Cadbury for her room bookings. You should JOIN to the rate table using room_type_requested and occupants."
   ]
  },
  {
   "cell_type": "markdown",
   "metadata": {},
   "source": [
    "``` mysql\n",
    "SELECT sum(nights * amount)\n",
    "FROM booking JOIN rate ON booking.room_type_requested = rate.room_type \n",
    "    AND booking.occupants = rate.occupancy\n",
    "JOIN guest ON guest.id = booking.guest_id\n",
    "WHERE first_name = 'Ruth' AND last_name = 'Cadbury'\n",
    "```"
   ]
  },
  {
   "cell_type": "markdown",
   "metadata": {},
   "source": [
    "Calculate the total bill for booking 5346 including extras."
   ]
  },
  {
   "cell_type": "markdown",
   "metadata": {},
   "source": [
    "``` mysql\n",
    "SELECT SUM(rate.amount) + COALESCE(SUM(extra.amount), 0) AS total_bill\n",
    "FROM booking LEFT JOIN extra on booking.booking_id = extra.booking_id\n",
    "JOIN rate ON booking.room_type_requested = rate.room_type \n",
    "    AND booking.occupants = rate.occupancy\n",
    "WHERE booking.booking_id = 5346\n",
    "```"
   ]
  },
  {
   "cell_type": "markdown",
   "metadata": {},
   "source": [
    "For every guest who has the word “Edinburgh” in their address show the total number of nights booked. Be sure to include 0 for those guests who have never had a booking. Show last name, first name, address and number of nights. Order by last name then first name."
   ]
  },
  {
   "cell_type": "markdown",
   "metadata": {},
   "source": [
    "``` mysql\n",
    "SELECT last_name, first_name, address, COALESCE(SUM(nights), 0) AS nights\n",
    "FROM guest LEFT JOIN booking ON guest.id = booking.guest_id\n",
    "WHERE address LIKE '%Edinburgh%'\n",
    "GROUP BY last_name, first_name, address\n",
    "```"
   ]
  },
  {
   "cell_type": "markdown",
   "metadata": {},
   "source": [
    "For each day of the week beginning 2016-11-25 show the number of bookings starting that day. Be sure to show all the days of the week in the correct order."
   ]
  },
  {
   "cell_type": "markdown",
   "metadata": {},
   "source": [
    "``` mysql\n",
    "SELECT booking_date, COUNT(*) as arrivals\n",
    "FROM booking\n",
    "WHERE booking_date >= '2016-11-25'\n",
    "GROUP BY booking_date\n",
    "``` "
   ]
  },
  {
   "cell_type": "markdown",
   "metadata": {},
   "source": [
    "Show the number of guests in the hotel on the night of 2016-11-21. Include all occupants who checked in that day but not those who checked out."
   ]
  },
  {
   "cell_type": "markdown",
   "metadata": {},
   "source": [
    "``` mysql\n",
    "SELECT SUM(occupants)\n",
    "FROM booking\n",
    "WHERE booking_date <= '2016-11-21' \n",
    "AND DATE_ADD(booking_date, INTERVAL nights DAY) > '2016-11-21'\n",
    "```"
   ]
  },
  {
   "cell_type": "markdown",
   "metadata": {},
   "source": [
    "Have two guests with the same surname ever stayed in the hotel on the evening? Show the last name and both first names. Do not include duplicates."
   ]
  },
  {
   "cell_type": "markdown",
   "metadata": {},
   "source": [
    "``` mysql\n",
    "SELECT DISTINCT x.last_name, x.first_name, y.first_name\n",
    "FROM (SELECT *\n",
    "      FROM guest JOIN booking ON guest.id = booking.guest_id) x\n",
    "JOIN (SELECT *\n",
    "      FROM guest JOIN booking on guest.id = booking.guest_id) y ON x.last_name = y.last_name\n",
    "WHERE x.first_name > y.first_name\n",
    "AND x.booking_date <= y.booking_date\n",
    "AND DATE_ADD(x.booking_date, INTERVAL x.nights DAY) > y.booking_date\n",
    "```"
   ]
  },
  {
   "cell_type": "markdown",
   "metadata": {},
   "source": [
    "The first digit of the room number indicates the floor – e.g. room 201 is on the 2nd floor. For each day of the week beginning 2016-11-14 show how many rooms are being vacated that day by floor number. Show all days in the correct order."
   ]
  },
  {
   "cell_type": "markdown",
   "metadata": {},
   "source": [
    "``` mysql\n",
    "SELECT day, SUM([1st]) AS [1st], SUM([2nd]) AS [2nd], SUM([3rd]) AS [3rd]\n",
    "FROM (SELECT DATE_ADD(booking_date, INTERVAL nights DAY) as day, \n",
    "      CASE WHEN LEFT(room_no, 1) = 1 THEN 1 ELSE 0 END AS [1st], \n",
    "      CASE WHEN LEFT(room_no, 1) = 2 THEN 1 ELSE 0 END AS [2nd], \n",
    "      CASE WHEN LEFT(room_no, 1) = 3 THEN 1 ELSE 0 END AS [3rd]\n",
    "      FROM booking) x\n",
    "WHERE day >= '2016-11-14'\n",
    "GROUP BY day\n",
    "```"
   ]
  },
  {
   "cell_type": "markdown",
   "metadata": {},
   "source": [
    "List the rooms that are free on the day 25th Nov 2016."
   ]
  },
  {
   "cell_type": "markdown",
   "metadata": {},
   "source": [
    "``` mysql\n",
    "SELECT DISTINCT room_no\n",
    "FROM booking x\n",
    "WHERE NOT EXISTS (SELECT room_no \n",
    "                  FROM booking y\n",
    "                  WHERE x.room_no = y.room_no \n",
    "                      AND y.booking_date <= '2016-11-25' \n",
    "                      AND DATEADD(DAY, y.nights, y.booking_date) > '2016-11-25')\n",
    "```"
   ]
  },
  {
   "cell_type": "markdown",
   "metadata": {},
   "source": [
    "``` mysql\n",
    "SELECT DISTINCT room_no\n",
    "FROM booking\n",
    "WHERE room_no NOT IN (SELECT room_no \n",
    "                      FROM booking\n",
    "                      WHERE booking_date <= '2016-11-25'\n",
    "                          AND DATEADD(DAY, nights, booking_date) > '2016-11-25')\n",
    "```"
   ]
  }
 ],
 "metadata": {
  "kernelspec": {
   "display_name": "myenv",
   "language": "python",
   "name": "myenv"
  },
  "language_info": {
   "codemirror_mode": {
    "name": "ipython",
    "version": 3
   },
   "file_extension": ".py",
   "mimetype": "text/x-python",
   "name": "python",
   "nbconvert_exporter": "python",
   "pygments_lexer": "ipython3",
   "version": "3.7.4"
  }
 },
 "nbformat": 4,
 "nbformat_minor": 2
}
