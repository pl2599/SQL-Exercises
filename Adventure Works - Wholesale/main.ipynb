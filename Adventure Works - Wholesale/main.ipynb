{
 "cells": [
  {
   "cell_type": "markdown",
   "metadata": {},
   "source": [
    "Show the first name and the email address of customer with CompanyName 'Bike World'"
   ]
  },
  {
   "cell_type": "markdown",
   "metadata": {},
   "source": [
    "```mysql\n",
    "SELECT FirstName, EmailAddress\n",
    "FROM Customer\n",
    "WHERE CompanyName = 'Bike World'\n",
    "```"
   ]
  },
  {
   "cell_type": "markdown",
   "metadata": {},
   "source": [
    "Show the CompanyName for all customers with an address in City 'Dallas'."
   ]
  },
  {
   "cell_type": "markdown",
   "metadata": {},
   "source": [
    "```mysql\n",
    "SELECT DISTINCT CompanyName\n",
    "FROM Customer JOIN CustomerAddress cusAdd \n",
    "    ON Customer.CustomerID = cusAdd .CustomerID\n",
    "JOIN Address ON cusAdd.AddressID = Address.AddressID\n",
    "WHERE City = 'Dallas'\n",
    "```"
   ]
  },
  {
   "cell_type": "markdown",
   "metadata": {},
   "source": [
    "How many items with ListPrice more than $1000 have been sold?"
   ]
  },
  {
   "cell_type": "markdown",
   "metadata": {},
   "source": [
    "```mysql\n",
    "SELECT COUNT(*)\n",
    "FROM Product\n",
    "WHERE ListPrice > 1000\n",
    "```"
   ]
  },
  {
   "cell_type": "markdown",
   "metadata": {},
   "source": [
    "Give the CompanyName of those customers with orders over $100000. Include the subtotal plus tax plus freight."
   ]
  },
  {
   "cell_type": "markdown",
   "metadata": {},
   "source": [
    "```mysql\n",
    "SELECT DISTINCT CompanyName, SubTotal, TaxAmt, Freight\n",
    "FROM Product JOIN SalesOrderDetail detail ON Product.ProductID = detail.ProductID\n",
    "JOIN SalesOrderHeader header ON detail.SalesOrderID = header.SalesOrderID\n",
    "JOIN Customer ON Customer.CustomerID = header.CustomerID\n",
    "WHERE (SubTotal + TaxAmt + Freight) > 100000\n",
    "```"
   ]
  },
  {
   "cell_type": "markdown",
   "metadata": {},
   "source": [
    "Find the number of left racing socks ('Racing Socks, L') ordered by CompanyName 'Riding Cycles'"
   ]
  },
  {
   "cell_type": "markdown",
   "metadata": {},
   "source": [
    "```mysql\n",
    "SELECT SUM(OrderQty)\n",
    "FROM Product JOIN SalesOrderDetail detail ON Product.ProductID = detail.ProductID\n",
    "JOIN SalesOrderHeader header ON detail.SalesOrderID = header.SalesOrderID\n",
    "JOIN Customer ON Customer.CustomerID = header.CustomerID\n",
    "WHERE Name = 'Racing Socks, L'\n",
    "    AND CompanyName = 'Riding Cycles'\n",
    "```"
   ]
  },
  {
   "cell_type": "markdown",
   "metadata": {},
   "source": [
    "A \"Single Item Order\" is a customer order where only one item is ordered. Show the SalesOrderID and the UnitPrice for every Single Item Order."
   ]
  },
  {
   "cell_type": "markdown",
   "metadata": {},
   "source": [
    "```mysql\n",
    "SELECT SalesOrderID, UnitPrice\n",
    "FROM SalesOrderDetail x\n",
    "WHERE SalesOrderID in (SELECT SalesOrderID\n",
    "                       FROM SalesOrderDetail y\n",
    "                       GROUP BY SalesOrderID\n",
    "                       HAVING COUNT(*) = 1)\n",
    "```"
   ]
  },
  {
   "cell_type": "markdown",
   "metadata": {},
   "source": [
    "Where did the racing socks go? List the product name and the CompanyName for all Customers who ordered ProductModel 'Racing Socks'."
   ]
  },
  {
   "cell_type": "markdown",
   "metadata": {},
   "source": [
    "```mysql\n",
    "SELECT Product.Name, CompanyName\n",
    "FROM Product JOIN SalesOrderDetail detail ON Product.ProductID = detail.ProductID\n",
    "JOIN ProductModel prodMod ON Product.ProductModelID = prodMod.ProductModelID\n",
    "JOIN SalesOrderHeader header ON detail.SalesOrderID = header.SalesOrderID\n",
    "JOIN Customer ON Customer.CustomerID = header.CustomerID\n",
    "WHERE prodMod.Name = 'Racing Socks'\n",
    "```"
   ]
  },
  {
   "cell_type": "markdown",
   "metadata": {},
   "source": [
    "Show the product description for culture 'fr' for product with ProductID 736."
   ]
  },
  {
   "cell_type": "markdown",
   "metadata": {},
   "source": [
    "```mysql\n",
    "SELECT Description\n",
    "FROM ProductDescription description JOIN ProductModelProductDescription PMPD \n",
    "    ON description.ProductDescriptionID = PMPD.ProductDescriptionID\n",
    "JOIN ProductModel prodMod ON PMPD.ProductModelID = prodMod.ProductModelID\n",
    "JOIN Product ON Product.ProductModelID = prodMod.ProductModelID\n",
    "WHERE ProductID = 736 \n",
    "    AND Culture = 'fr'\n",
    "```"
   ]
  },
  {
   "cell_type": "markdown",
   "metadata": {},
   "source": [
    "Use the SubTotal value in SaleOrderHeader to list orders from the largest to the smallest. For each order show the CompanyName and the SubTotal and the total weight of the order."
   ]
  },
  {
   "cell_type": "markdown",
   "metadata": {},
   "source": [
    "```mysql\n",
    "SELECT CompanyName, SubTotal, TotalWeight\n",
    "FROM (SELECT SalesOrderID, SUM(Weight * OrderQty) as TotalWeight\n",
    "      FROM Product JOIN SalesOrderDetail detail \n",
    "          ON Product.ProductID = detail.ProductID\n",
    "      GROUP BY SalesOrderID) x\n",
    "JOIN SalesOrderHeader header ON x.SalesOrderID = header.SalesOrderID \n",
    "JOIN Customer ON header.CustomerID = Customer.CustomerID\n",
    "ORDER BY SubTotal DESC\n",
    "```"
   ]
  },
  {
   "cell_type": "markdown",
   "metadata": {},
   "source": [
    "How many products in ProductCategory 'Cranksets' have been sold to an address in 'London'?"
   ]
  },
  {
   "cell_type": "markdown",
   "metadata": {},
   "source": [
    "```mysql\n",
    "SELECT SUM(OrderQty)\n",
    "FROM ProductCategory categ JOIN Product \n",
    "    ON categ.ProductCategoryID = Product.ProductCategoryID\n",
    "JOIN SalesOrderDetail detail ON Product.ProductID = detail.ProductID\n",
    "JOIN ProductModel prodMod ON Product.ProductModelID = prodMod.ProductModelID\n",
    "JOIN SalesOrderHeader header ON detail.SalesOrderID = header.SalesOrderID\n",
    "JOIN Address ON Address.AddressID = header.ShipToAddressID\n",
    "WHERE City = 'London' AND categ.Name = 'Cranksets'\n",
    "```"
   ]
  },
  {
   "cell_type": "markdown",
   "metadata": {},
   "source": [
    "For every customer with a 'Main Office' in Dallas show AddressLine1 of the 'Main Office' and AddressLine1 of the 'Shipping' address - if there is no shipping address leave it blank. Use one row per customer."
   ]
  },
  {
   "cell_type": "markdown",
   "metadata": {},
   "source": [
    "```mysql\n",
    "SELECT main.AddressLine1, shipping.AddressLine1\n",
    "FROM (SELECT CustomerID, AddressLine1, City\n",
    "      FROM CustomerAddress JOIN Address \n",
    "          ON CustomerAddress.AddressID = Address.AddressID\n",
    "      WHERE AddressType = 'Main Office') main\n",
    "LEFT JOIN (SELECT CustomerID, AddressLine1\n",
    "           FROM CustomerAddress JOIN Address \n",
    "               ON CustomerAddress.AddressID = Address.AddressID\n",
    "           WHERE AddressType = 'Shipping') shipping \n",
    "               ON main.CustomerID = shipping.CustomerID\n",
    "WHERE main.city = 'Dallas'\n",
    "```"
   ]
  },
  {
   "cell_type": "markdown",
   "metadata": {},
   "source": [
    "For each order show the SalesOrderID and SubTotal calculated three ways:\n",
    "1. From the SalesOrderHeader\n",
    "2. Sum of OrderQty*UnitPrice\n",
    "3. Sum of OrderQty*ListPrice"
   ]
  },
  {
   "cell_type": "markdown",
   "metadata": {},
   "source": [
    "```mysql\n",
    "SELECT header.SalesOrderID, SubTotal, SubTotalUnit, SubTotalList\n",
    "FROM SalesOrderHeader header\n",
    "JOIN (SELECT \n",
    "          SalesOrderID, \n",
    "          SUM(OrderQty * UnitPrice) AS SubTotalUnit, \n",
    "          SUM(OrderQty * ListPrice) AS SubTotalList\n",
    "      FROM SalesOrderDetail detail \n",
    "      JOIN Product ON detail.ProductID = Product.ProductID\n",
    "      GROUP BY SalesOrderID) grouped\n",
    "ON header.SalesOrderID = grouped.SalesOrderID\n",
    "```"
   ]
  },
  {
   "cell_type": "markdown",
   "metadata": {},
   "source": [
    "Show the best selling item by value."
   ]
  },
  {
   "cell_type": "markdown",
   "metadata": {},
   "source": [
    "```mysql\n",
    "SELECT Name, SUM(OrderQty * UnitPrice) as value\n",
    "FROM Product JOIN SalesOrderDetail detail ON Product.ProductID = detail.ProductID\n",
    "GROUP BY Name\n",
    "ORDER BY value DESC\n",
    "```"
   ]
  },
  {
   "cell_type": "markdown",
   "metadata": {},
   "source": [
    "Show how many orders are in the following ranges (in $):"
   ]
  },
  {
   "cell_type": "markdown",
   "metadata": {},
   "source": [
    "```mysql\n",
    "SELECT Range, SUM(OrderQty) as [Num Orders], SUM(SubTotal) AS [Total Value]\n",
    "FROM (SELECT \n",
    "          CASE WHEN SubTotal BETWEEN 0 AND 99 THEN '0-99'\n",
    "              WHEN SubTotal BETWEEN 100 AND 999 THEN '100-999'\n",
    "              WHEN SubTotal BETWEEN 1000 AND 9999 THEN '1000-9999'\n",
    "              ELSE '10000-' END AS Range, \n",
    "          OrderQty, \n",
    "          SubTotal\n",
    "      FROM SalesOrderHeader header JOIN SalesOrderDetail detail \n",
    "          ON header.SalesOrderID = detail.SalesOrderID) x\n",
    "GROUP BY Range\n",
    "```"
   ]
  },
  {
   "cell_type": "markdown",
   "metadata": {},
   "source": [
    "Identify the three most important cities. Show the break down of top level product category against city."
   ]
  },
  {
   "cell_type": "markdown",
   "metadata": {},
   "source": [
    "```mysql\n",
    "SELECT City, category.Name, SUM(OrderQty) AS Quantity\n",
    "FROM ProductCategory category JOIN Product \n",
    "    ON category.ProductCategoryID = product.ProductCategoryID\n",
    "JOIN SalesOrderDetail detail ON Product.ProductID = detail.ProductID\n",
    "JOIN ProductModel prodMod ON Product.ProductModelID = prodMod.ProductModelID\n",
    "JOIN SalesOrderHeader header ON detail.SalesOrderID = header.SalesOrderID\n",
    "JOIN Address  ON Address.AddressID = header.ShipToAddressID\n",
    "WHERE City IN (SELECT City\n",
    "               FROM (SELECT City, RANK() OVER (ORDER BY Subtotal DESC) AS rank \n",
    "                     FROM (SELECT City, SUM(Subtotal) AS Subtotal\n",
    "                           FROM Address JOIN SalesOrderHeader header \n",
    "                               ON Address.AddressID = header.ShipToAddressID\n",
    "                           GROUP BY City) x) y\n",
    "               WHERE rank <= 3)\n",
    "GROUP BY City, category.Name\n",
    "ORDER BY City, Quantity DESC\n",
    "```"
   ]
  },
  {
   "cell_type": "markdown",
   "metadata": {},
   "source": [
    "List the SalesOrderNumber for the customers 'Good Toys' and 'Bike World'"
   ]
  },
  {
   "cell_type": "markdown",
   "metadata": {},
   "source": [
    "```mysql\n",
    "SELECT SalesOrderID\n",
    "FROM SalesOrderHeader header JOIN Customer \n",
    "    ON header.CustomerID = Customer.CustomerID\n",
    "WHERE CompanyName IN ('Good Toys', 'Bike World')\n",
    "```"
   ]
  },
  {
   "cell_type": "markdown",
   "metadata": {},
   "source": [
    "List the ProductName and the quantity of what was ordered by 'Futuristic Bikes'"
   ]
  },
  {
   "cell_type": "markdown",
   "metadata": {},
   "source": [
    "```mysql\n",
    "SELECT Product.Name\n",
    "FROM Product JOIN SalesOrderDetail detail ON Product.ProductID = detail.ProductID\n",
    "JOIN ProductModel prodMod ON Product.ProductModelID = prodMod.ProductModelID\n",
    "JOIN SalesOrderHeader header ON detail.SalesOrderID = header.SalesOrderID\n",
    "JOIN Customer ON header.CustomerID = Customer.CustomerID\n",
    "WHERE CompanyName = 'Futuristic Bikes'\n",
    "```"
   ]
  },
  {
   "cell_type": "markdown",
   "metadata": {},
   "source": [
    "List the name and addresses of companies containing the word 'Bike' (upper or lower case) and companies containing 'cycle' (upper or lower case). Ensure that the 'bike's are listed before the 'cycles's."
   ]
  },
  {
   "cell_type": "markdown",
   "metadata": {},
   "source": [
    "```mysql\n",
    "SELECT CompanyName, AddressLine1, AddressLine2, City\n",
    "FROM Customer JOIN SalesOrderHeader header\n",
    "    ON header.CustomerID = Customer.CustomerID\n",
    "JOIN Address ON header.ShipToAddressID = Address.AddressID\n",
    "WHERE LOWER(CompanyName) LIKE '%bike%' OR LOWER(CompanyName) LIKE '%cycle%'\n",
    "ORDER BY \n",
    "    CASE WHEN LOWER(CompanyName) LIKE '%bike%' THEN 1\n",
    "    ELSE 2 END\n",
    "```"
   ]
  },
  {
   "cell_type": "markdown",
   "metadata": {},
   "source": [
    "Show the total order value for each CountyRegion. List by value with the highest first."
   ]
  },
  {
   "cell_type": "markdown",
   "metadata": {},
   "source": [
    "```mysql\n",
    "SELECT CountyRegion, SUM(SubTotal) as Value\n",
    "FROM Address JOIN SalesOrderHeader header \n",
    "    ON Address.AddressID = header.ShipToAddressID\n",
    "GROUP BY CountyRegion\n",
    "ORDER BY Value DESC\n",
    "```"
   ]
  },
  {
   "cell_type": "markdown",
   "metadata": {},
   "source": [
    "Find the best customer in each region."
   ]
  },
  {
   "cell_type": "markdown",
   "metadata": {},
   "source": [
    "```mysql\n",
    "SELECT CountyRegion, CompanyName\n",
    "FROM Address JOIN SalesOrderHeader header \n",
    "    ON Address.AddressID = header.ShipToAddressID\n",
    "JOIN Customer ON header.CustomerID = Customer.CustomerID\n",
    "WHERE SubTotal >= ALL(SELECT SubTotal\n",
    "                      FROM SalesOrderHeader otherHeader JOIN Address otherAddress\n",
    "                      ON otherAddress.AddressID = otherHeader.ShipToAddressID\n",
    "                      WHERE Address.CountyRegion = otherAddress.CountyRegion)\n",
    "ORDER BY CountyRegion\n",
    "```"
   ]
  },
  {
   "cell_type": "markdown",
   "metadata": {},
   "source": [
    "```mysql\n",
    "SELECT CountyRegion, CompanyName\n",
    "FROM (SELECT \n",
    "          CountyRegion, \n",
    "          CompanyName, \n",
    "          RANK() OVER (PARTITION BY CountyRegion ORDER BY SubTotal DESC) AS rank\n",
    "      FROM Address JOIN SalesOrderHeader header \n",
    "          ON Address.AddressID = header.ShipToAddressID\n",
    "      JOIN Customer ON header.CustomerID = Customer.CustomerID) x\n",
    "WHERE rank = 1\n",
    "```"
   ]
  }
 ],
 "metadata": {
  "kernelspec": {
   "display_name": "myenv",
   "language": "python",
   "name": "myenv"
  },
  "language_info": {
   "codemirror_mode": {
    "name": "ipython",
    "version": 3
   },
   "file_extension": ".py",
   "mimetype": "text/x-python",
   "name": "python",
   "nbconvert_exporter": "python",
   "pygments_lexer": "ipython3",
   "version": "3.7.4"
  }
 },
 "nbformat": 4,
 "nbformat_minor": 2
}
